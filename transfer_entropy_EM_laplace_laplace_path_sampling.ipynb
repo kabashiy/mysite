{
  "nbformat": 4,
  "nbformat_minor": 0,
  "metadata": {
    "kernelspec": {
      "display_name": "Python 3",
      "language": "python",
      "name": "python3"
    },
    "language_info": {
      "codemirror_mode": {
        "name": "ipython",
        "version": 3
      },
      "file_extension": ".py",
      "mimetype": "text/x-python",
      "name": "python",
      "nbconvert_exporter": "python",
      "pygments_lexer": "ipython3",
      "version": "3.7.7"
    },
    "colab": {
      "name": "transfer_entropy_EM_laplace-laplace path sampling.ipynb",
      "provenance": [],
      "collapsed_sections": [],
      "include_colab_link": true
    }
  },
  "cells": [
    {
      "cell_type": "markdown",
      "metadata": {
        "id": "view-in-github",
        "colab_type": "text"
      },
      "source": [
        "<a href=\"https://colab.research.google.com/github/kabashiy/mysite/blob/master/transfer_entropy_EM_laplace_laplace_path_sampling.ipynb\" target=\"_parent\"><img src=\"https://colab.research.google.com/assets/colab-badge.svg\" alt=\"Open In Colab\"/></a>"
      ]
    },
    {
      "cell_type": "markdown",
      "metadata": {
        "id": "Y1CsQhEMtWSi"
      },
      "source": [
        "(pip|conda) install numbaが必要.  \n",
        "numbaのバージョンが古くてもだめな可能性高め.  \n",
        "コンパイルは結構時間かかる.  "
      ]
    },
    {
      "cell_type": "code",
      "metadata": {
        "id": "dvIz7MbiuFu2",
        "outputId": "a59d8f02-380b-40ec-84ba-c7262b62e614",
        "colab": {
          "base_uri": "https://localhost:8080/"
        }
      },
      "source": [
        "from google.colab import drive\n",
        "drive.mount('/content/drive')\n",
        "\n",
        "import sys\n",
        "sys.path.append('/content/drive/My Drive/Colab Notebooks/my-modules')"
      ],
      "execution_count": 60,
      "outputs": [
        {
          "output_type": "stream",
          "text": [
            "Drive already mounted at /content/drive; to attempt to forcibly remount, call drive.mount(\"/content/drive\", force_remount=True).\n"
          ],
          "name": "stdout"
        }
      ]
    },
    {
      "cell_type": "code",
      "metadata": {
        "id": "YfPHVy1vtWSj"
      },
      "source": [
        "import numpy as np\n",
        "import matplotlib.pyplot as plt\n",
        "import pandas as pd\n",
        "from scipy import stats\n",
        "from scipy.linalg import inv \n",
        "import seaborn as sns\n",
        "\n",
        "from numba import jit, f8, njit, prange\n",
        "import numba_scipy\n",
        "\n",
        "%matplotlib inline\n"
      ],
      "execution_count": 61,
      "outputs": []
    },
    {
      "cell_type": "code",
      "metadata": {
        "id": "vUK8oLCxtWSs",
        "outputId": "2f27f3a1-247b-46ea-e9b8-da66d8835694",
        "colab": {
          "base_uri": "https://localhost:8080/",
          "height": 443
        }
      },
      "source": [
        "shc_raw = pd.read_csv(\"data/01_SHC-ERK_HRG_MCF/raw_SHC.csv\")\n",
        "shc_raw = shc_raw.set_index(\"time\")\n",
        "shc_raw = shc_raw.replace(0.0, np.nan)\n",
        "shc_raw = shc_raw.fillna(shc_raw.dropna().mean(axis=0)) #これには欠損値なし\n",
        "#s = np.log((shc_raw/shc_raw.iloc[0:3].mean()).drop(index=[-3,-1.5])).to_numpy()\n",
        "s_tmp = (shc_raw/shc_raw.iloc[0:3].mean())\n",
        "s = np.log(s_tmp).to_numpy()\n",
        "\n",
        "\n",
        "erk_raw = pd.read_csv(\"data/01_SHC-ERK_HRG_MCF/raw_ERK.csv\")\n",
        "erk_raw = erk_raw.set_index(\"time\")\n",
        "erk_raw = erk_raw.replace(0.0, np.nan)\n",
        "erk_raw = erk_raw.fillna(erk_raw.dropna().mean(axis=0)) \n",
        "#e = np.log((erk_raw/erk_raw.iloc[0:3].mean()).drop(index=[-3,-1.5])).to_numpy()\n",
        "e_tmp = (erk_raw/erk_raw.iloc[0:3].mean())\n",
        "e = np.log(e_tmp).to_numpy()\n",
        "\n",
        "\"\"\"\n",
        "shc_raw = pd.read_csv(\"data/02_SHC-Grb2_HRG_MCF/raw_SHC.csv\")\n",
        "shc_raw = shc_raw.set_index(\"time\")\n",
        "shc_raw = shc_raw.replace(0.0, np.nan)\n",
        "shc_raw = shc_raw.fillna(shc_raw.dropna().mean(axis=0))\n",
        "#s = np.log((shc_raw/shc_raw.iloc[0:3].mean()).drop(index=[-3,-1.5])).to_numpy()\n",
        "s_tmp = (shc_raw/shc_raw.iloc[0:3].mean())\n",
        "s = np.log(s_tmp).to_numpy()\n",
        "\n",
        "\n",
        "\n",
        "grb2_raw = pd.read_csv(\"data/02_SHC-Grb2_HRG_MCF/raw_Grb2.csv\")\n",
        "grb2_raw = grb2_raw.set_index(\"time\")\n",
        "grb2_raw = grb2_raw.replace(0.0, np.nan)\n",
        "grb2_raw = grb2_raw.fillna(grb2_raw.dropna().mean(axis=0))\n",
        "#e = np.log((grb2_raw/grb2_raw.iloc[0:3].mean()).drop(index=[-3,-1.5])).to_numpy()\n",
        "e_tmp = (grb2_raw/grb2_raw.iloc[0:3].mean())\n",
        "e = np.log(e_tmp).to_numpy()\n",
        "\"\"\"\n",
        "\n",
        "\"\"\"\n",
        "grb2_raw = pd.read_excel(\"data/03_Grb2-ERK_HRG_MCF/Grb2-ERK.xlsx\",sheet_name='Grb2')\n",
        "grb2_raw = grb2_raw.set_index(\"time\")\n",
        "grb2_raw = grb2_raw.replace(0.0, np.nan)\n",
        "grb2_raw = grb2_raw.fillna(grb2_raw.dropna().mean(axis=0))\n",
        "s = np.log((grb2_raw/grb2_raw.iloc[0:3].mean())).to_numpy()\n",
        "\n",
        "erk_raw = pd.read_excel(\"data/03_Grb2-ERK_HRG_MCF/Grb2-ERK.xlsx\",sheet_name='ERK')\n",
        "erk_raw = erk_raw.set_index(\"time\")\n",
        "erk_raw = erk_raw.replace(0.0, np.nan)\n",
        "erk_raw = erk_raw.fillna(erk_raw.dropna().mean(axis=0))\n",
        "e = np.log((erk_raw/erk_raw.iloc[0:3].mean())).to_numpy()\n",
        "\"\"\"\n",
        "\n",
        "\n",
        "\n",
        "T = len(s)\n",
        "M = len(s.T)"
      ],
      "execution_count": 62,
      "outputs": [
        {
          "output_type": "error",
          "ename": "FileNotFoundError",
          "evalue": "ignored",
          "traceback": [
            "\u001b[0;31m---------------------------------------------------------------------------\u001b[0m",
            "\u001b[0;31mFileNotFoundError\u001b[0m                         Traceback (most recent call last)",
            "\u001b[0;32m<ipython-input-62-c648b36cc012>\u001b[0m in \u001b[0;36m<module>\u001b[0;34m()\u001b[0m\n\u001b[0;32m----> 1\u001b[0;31m \u001b[0mshc_raw\u001b[0m \u001b[0;34m=\u001b[0m \u001b[0mpd\u001b[0m\u001b[0;34m.\u001b[0m\u001b[0mread_csv\u001b[0m\u001b[0;34m(\u001b[0m\u001b[0;34m\"data/01_SHC-ERK_HRG_MCF/raw_SHC.csv\"\u001b[0m\u001b[0;34m)\u001b[0m\u001b[0;34m\u001b[0m\u001b[0;34m\u001b[0m\u001b[0m\n\u001b[0m\u001b[1;32m      2\u001b[0m \u001b[0mshc_raw\u001b[0m \u001b[0;34m=\u001b[0m \u001b[0mshc_raw\u001b[0m\u001b[0;34m.\u001b[0m\u001b[0mset_index\u001b[0m\u001b[0;34m(\u001b[0m\u001b[0;34m\"time\"\u001b[0m\u001b[0;34m)\u001b[0m\u001b[0;34m\u001b[0m\u001b[0;34m\u001b[0m\u001b[0m\n\u001b[1;32m      3\u001b[0m \u001b[0mshc_raw\u001b[0m \u001b[0;34m=\u001b[0m \u001b[0mshc_raw\u001b[0m\u001b[0;34m.\u001b[0m\u001b[0mreplace\u001b[0m\u001b[0;34m(\u001b[0m\u001b[0;36m0.0\u001b[0m\u001b[0;34m,\u001b[0m \u001b[0mnp\u001b[0m\u001b[0;34m.\u001b[0m\u001b[0mnan\u001b[0m\u001b[0;34m)\u001b[0m\u001b[0;34m\u001b[0m\u001b[0;34m\u001b[0m\u001b[0m\n\u001b[1;32m      4\u001b[0m \u001b[0mshc_raw\u001b[0m \u001b[0;34m=\u001b[0m \u001b[0mshc_raw\u001b[0m\u001b[0;34m.\u001b[0m\u001b[0mfillna\u001b[0m\u001b[0;34m(\u001b[0m\u001b[0mshc_raw\u001b[0m\u001b[0;34m.\u001b[0m\u001b[0mdropna\u001b[0m\u001b[0;34m(\u001b[0m\u001b[0;34m)\u001b[0m\u001b[0;34m.\u001b[0m\u001b[0mmean\u001b[0m\u001b[0;34m(\u001b[0m\u001b[0maxis\u001b[0m\u001b[0;34m=\u001b[0m\u001b[0;36m0\u001b[0m\u001b[0;34m)\u001b[0m\u001b[0;34m)\u001b[0m \u001b[0;31m#これには欠損値なし\u001b[0m\u001b[0;34m\u001b[0m\u001b[0;34m\u001b[0m\u001b[0m\n\u001b[1;32m      5\u001b[0m \u001b[0;31m#s = np.log((shc_raw/shc_raw.iloc[0:3].mean()).drop(index=[-3,-1.5])).to_numpy()\u001b[0m\u001b[0;34m\u001b[0m\u001b[0;34m\u001b[0m\u001b[0;34m\u001b[0m\u001b[0m\n",
            "\u001b[0;32m/usr/local/lib/python3.6/dist-packages/pandas/io/parsers.py\u001b[0m in \u001b[0;36mread_csv\u001b[0;34m(filepath_or_buffer, sep, delimiter, header, names, index_col, usecols, squeeze, prefix, mangle_dupe_cols, dtype, engine, converters, true_values, false_values, skipinitialspace, skiprows, skipfooter, nrows, na_values, keep_default_na, na_filter, verbose, skip_blank_lines, parse_dates, infer_datetime_format, keep_date_col, date_parser, dayfirst, cache_dates, iterator, chunksize, compression, thousands, decimal, lineterminator, quotechar, quoting, doublequote, escapechar, comment, encoding, dialect, error_bad_lines, warn_bad_lines, delim_whitespace, low_memory, memory_map, float_precision)\u001b[0m\n\u001b[1;32m    684\u001b[0m     )\n\u001b[1;32m    685\u001b[0m \u001b[0;34m\u001b[0m\u001b[0m\n\u001b[0;32m--> 686\u001b[0;31m     \u001b[0;32mreturn\u001b[0m \u001b[0m_read\u001b[0m\u001b[0;34m(\u001b[0m\u001b[0mfilepath_or_buffer\u001b[0m\u001b[0;34m,\u001b[0m \u001b[0mkwds\u001b[0m\u001b[0;34m)\u001b[0m\u001b[0;34m\u001b[0m\u001b[0;34m\u001b[0m\u001b[0m\n\u001b[0m\u001b[1;32m    687\u001b[0m \u001b[0;34m\u001b[0m\u001b[0m\n\u001b[1;32m    688\u001b[0m \u001b[0;34m\u001b[0m\u001b[0m\n",
            "\u001b[0;32m/usr/local/lib/python3.6/dist-packages/pandas/io/parsers.py\u001b[0m in \u001b[0;36m_read\u001b[0;34m(filepath_or_buffer, kwds)\u001b[0m\n\u001b[1;32m    450\u001b[0m \u001b[0;34m\u001b[0m\u001b[0m\n\u001b[1;32m    451\u001b[0m     \u001b[0;31m# Create the parser.\u001b[0m\u001b[0;34m\u001b[0m\u001b[0;34m\u001b[0m\u001b[0;34m\u001b[0m\u001b[0m\n\u001b[0;32m--> 452\u001b[0;31m     \u001b[0mparser\u001b[0m \u001b[0;34m=\u001b[0m \u001b[0mTextFileReader\u001b[0m\u001b[0;34m(\u001b[0m\u001b[0mfp_or_buf\u001b[0m\u001b[0;34m,\u001b[0m \u001b[0;34m**\u001b[0m\u001b[0mkwds\u001b[0m\u001b[0;34m)\u001b[0m\u001b[0;34m\u001b[0m\u001b[0;34m\u001b[0m\u001b[0m\n\u001b[0m\u001b[1;32m    453\u001b[0m \u001b[0;34m\u001b[0m\u001b[0m\n\u001b[1;32m    454\u001b[0m     \u001b[0;32mif\u001b[0m \u001b[0mchunksize\u001b[0m \u001b[0;32mor\u001b[0m \u001b[0miterator\u001b[0m\u001b[0;34m:\u001b[0m\u001b[0;34m\u001b[0m\u001b[0;34m\u001b[0m\u001b[0m\n",
            "\u001b[0;32m/usr/local/lib/python3.6/dist-packages/pandas/io/parsers.py\u001b[0m in \u001b[0;36m__init__\u001b[0;34m(self, f, engine, **kwds)\u001b[0m\n\u001b[1;32m    944\u001b[0m             \u001b[0mself\u001b[0m\u001b[0;34m.\u001b[0m\u001b[0moptions\u001b[0m\u001b[0;34m[\u001b[0m\u001b[0;34m\"has_index_names\"\u001b[0m\u001b[0;34m]\u001b[0m \u001b[0;34m=\u001b[0m \u001b[0mkwds\u001b[0m\u001b[0;34m[\u001b[0m\u001b[0;34m\"has_index_names\"\u001b[0m\u001b[0;34m]\u001b[0m\u001b[0;34m\u001b[0m\u001b[0;34m\u001b[0m\u001b[0m\n\u001b[1;32m    945\u001b[0m \u001b[0;34m\u001b[0m\u001b[0m\n\u001b[0;32m--> 946\u001b[0;31m         \u001b[0mself\u001b[0m\u001b[0;34m.\u001b[0m\u001b[0m_make_engine\u001b[0m\u001b[0;34m(\u001b[0m\u001b[0mself\u001b[0m\u001b[0;34m.\u001b[0m\u001b[0mengine\u001b[0m\u001b[0;34m)\u001b[0m\u001b[0;34m\u001b[0m\u001b[0;34m\u001b[0m\u001b[0m\n\u001b[0m\u001b[1;32m    947\u001b[0m \u001b[0;34m\u001b[0m\u001b[0m\n\u001b[1;32m    948\u001b[0m     \u001b[0;32mdef\u001b[0m \u001b[0mclose\u001b[0m\u001b[0;34m(\u001b[0m\u001b[0mself\u001b[0m\u001b[0;34m)\u001b[0m\u001b[0;34m:\u001b[0m\u001b[0;34m\u001b[0m\u001b[0;34m\u001b[0m\u001b[0m\n",
            "\u001b[0;32m/usr/local/lib/python3.6/dist-packages/pandas/io/parsers.py\u001b[0m in \u001b[0;36m_make_engine\u001b[0;34m(self, engine)\u001b[0m\n\u001b[1;32m   1176\u001b[0m     \u001b[0;32mdef\u001b[0m \u001b[0m_make_engine\u001b[0m\u001b[0;34m(\u001b[0m\u001b[0mself\u001b[0m\u001b[0;34m,\u001b[0m \u001b[0mengine\u001b[0m\u001b[0;34m=\u001b[0m\u001b[0;34m\"c\"\u001b[0m\u001b[0;34m)\u001b[0m\u001b[0;34m:\u001b[0m\u001b[0;34m\u001b[0m\u001b[0;34m\u001b[0m\u001b[0m\n\u001b[1;32m   1177\u001b[0m         \u001b[0;32mif\u001b[0m \u001b[0mengine\u001b[0m \u001b[0;34m==\u001b[0m \u001b[0;34m\"c\"\u001b[0m\u001b[0;34m:\u001b[0m\u001b[0;34m\u001b[0m\u001b[0;34m\u001b[0m\u001b[0m\n\u001b[0;32m-> 1178\u001b[0;31m             \u001b[0mself\u001b[0m\u001b[0;34m.\u001b[0m\u001b[0m_engine\u001b[0m \u001b[0;34m=\u001b[0m \u001b[0mCParserWrapper\u001b[0m\u001b[0;34m(\u001b[0m\u001b[0mself\u001b[0m\u001b[0;34m.\u001b[0m\u001b[0mf\u001b[0m\u001b[0;34m,\u001b[0m \u001b[0;34m**\u001b[0m\u001b[0mself\u001b[0m\u001b[0;34m.\u001b[0m\u001b[0moptions\u001b[0m\u001b[0;34m)\u001b[0m\u001b[0;34m\u001b[0m\u001b[0;34m\u001b[0m\u001b[0m\n\u001b[0m\u001b[1;32m   1179\u001b[0m         \u001b[0;32melse\u001b[0m\u001b[0;34m:\u001b[0m\u001b[0;34m\u001b[0m\u001b[0;34m\u001b[0m\u001b[0m\n\u001b[1;32m   1180\u001b[0m             \u001b[0;32mif\u001b[0m \u001b[0mengine\u001b[0m \u001b[0;34m==\u001b[0m \u001b[0;34m\"python\"\u001b[0m\u001b[0;34m:\u001b[0m\u001b[0;34m\u001b[0m\u001b[0;34m\u001b[0m\u001b[0m\n",
            "\u001b[0;32m/usr/local/lib/python3.6/dist-packages/pandas/io/parsers.py\u001b[0m in \u001b[0;36m__init__\u001b[0;34m(self, src, **kwds)\u001b[0m\n\u001b[1;32m   2006\u001b[0m         \u001b[0mkwds\u001b[0m\u001b[0;34m[\u001b[0m\u001b[0;34m\"usecols\"\u001b[0m\u001b[0;34m]\u001b[0m \u001b[0;34m=\u001b[0m \u001b[0mself\u001b[0m\u001b[0;34m.\u001b[0m\u001b[0musecols\u001b[0m\u001b[0;34m\u001b[0m\u001b[0;34m\u001b[0m\u001b[0m\n\u001b[1;32m   2007\u001b[0m \u001b[0;34m\u001b[0m\u001b[0m\n\u001b[0;32m-> 2008\u001b[0;31m         \u001b[0mself\u001b[0m\u001b[0;34m.\u001b[0m\u001b[0m_reader\u001b[0m \u001b[0;34m=\u001b[0m \u001b[0mparsers\u001b[0m\u001b[0;34m.\u001b[0m\u001b[0mTextReader\u001b[0m\u001b[0;34m(\u001b[0m\u001b[0msrc\u001b[0m\u001b[0;34m,\u001b[0m \u001b[0;34m**\u001b[0m\u001b[0mkwds\u001b[0m\u001b[0;34m)\u001b[0m\u001b[0;34m\u001b[0m\u001b[0;34m\u001b[0m\u001b[0m\n\u001b[0m\u001b[1;32m   2009\u001b[0m         \u001b[0mself\u001b[0m\u001b[0;34m.\u001b[0m\u001b[0munnamed_cols\u001b[0m \u001b[0;34m=\u001b[0m \u001b[0mself\u001b[0m\u001b[0;34m.\u001b[0m\u001b[0m_reader\u001b[0m\u001b[0;34m.\u001b[0m\u001b[0munnamed_cols\u001b[0m\u001b[0;34m\u001b[0m\u001b[0;34m\u001b[0m\u001b[0m\n\u001b[1;32m   2010\u001b[0m \u001b[0;34m\u001b[0m\u001b[0m\n",
            "\u001b[0;32mpandas/_libs/parsers.pyx\u001b[0m in \u001b[0;36mpandas._libs.parsers.TextReader.__cinit__\u001b[0;34m()\u001b[0m\n",
            "\u001b[0;32mpandas/_libs/parsers.pyx\u001b[0m in \u001b[0;36mpandas._libs.parsers.TextReader._setup_parser_source\u001b[0;34m()\u001b[0m\n",
            "\u001b[0;31mFileNotFoundError\u001b[0m: [Errno 2] No such file or directory: 'data/01_SHC-ERK_HRG_MCF/raw_SHC.csv'"
          ]
        }
      ]
    },
    {
      "cell_type": "code",
      "metadata": {
        "id": "-i7JbQcCtWSu"
      },
      "source": [
        "# 人工データの生成\n",
        "mu1 = 0.4\n",
        "mu2 = 0.4\n",
        "sigma1 = 0.1\n",
        "sigma2 = 0.2\n",
        "a = 0.6\n",
        "b = -0.3#-0.7#-0.3#-0.7\n",
        "c = 0.6#0.8#0.6#0.8\n",
        "d = 0.7\n",
        "b_tmp = np.copy(b)\n",
        "\n",
        "T = 100\n",
        "M = 25\n",
        "\n",
        "x_t = np.zeros((T,M))\n",
        "y_t = np.zeros((T,M))\n",
        "x = np.random.randn(M)*sigma1 + mu1\n",
        "y = np.random.randn(M)*sigma2 + mu2\n",
        "x_t[0] = x\n",
        "y_t[0] = y\n",
        "for t in range(1,T):\n",
        "\n",
        "   \n",
        "    #\"\"\"\n",
        "    if t < T//2:\n",
        "        pass\n",
        "    else:\n",
        "        b_tmp = 0.\n",
        "    #\"\"\"\n",
        "\n",
        "    x = a*x_t[t-1] + b_tmp*y_t[t-1] +mu1*np.ones(M)+sigma1*np.random.randn(M)\n",
        "    x_t[t] = x \n",
        "    y = c*x_t[t-1] + d*y_t[t-1] +mu2*np.ones(M)+sigma2*np.random.randn(M)\n",
        "    y_t[t] = y\n",
        "\n",
        "        \n",
        "    \n",
        "s = x_t\n",
        "e = y_t\n",
        "T = len(x_t)\n",
        "\n"
      ],
      "execution_count": 63,
      "outputs": []
    },
    {
      "cell_type": "code",
      "metadata": {
        "id": "N8-23BAgtWSy"
      },
      "source": [
        ""
      ],
      "execution_count": null,
      "outputs": []
    },
    {
      "cell_type": "code",
      "metadata": {
        "id": "hvUmjixAtWS0",
        "outputId": "d970efdc-6a5d-48ab-8edc-b04a47db47bd",
        "colab": {
          "base_uri": "https://localhost:8080/",
          "height": 281
        }
      },
      "source": [
        "## 確認用\n",
        "plt.title('SHC:blue,ERK:red,T='+str(T)+',M='+str(M))\n",
        "plt.plot(s,alpha=0.4,color='blue')\n",
        "plt.plot(e,alpha=0.4,color='red')\n",
        "plt.show()"
      ],
      "execution_count": null,
      "outputs": [
        {
          "output_type": "display_data",
          "data": {
            "image/png": "[encoded data removed]",
            "text/plain": [
              "<Figure size 432x288 with 1 Axes>"
            ]
          },
          "metadata": {
            "tags": [],
            "needs_background": "light"
          }
        }
      ]
    },
    {
      "cell_type": "code",
      "metadata": {
        "id": "lMDfnHkFtWS7"
      },
      "source": [
        "# 必要な関数の定義\n",
        "@jit('f8(f8[:],f8,f8,f8,f8)',nopython=True,cache=True)\n",
        "def log_likelihood_x(theta,x_u,x_past_u,y_past_u,sigma_x):\n",
        "    a_t = theta[0]\n",
        "    b_t = theta[1]\n",
        "    mu_t_x = theta[4]\n",
        "    return -np.abs(x_u - a_t*x_past_u-b_t*y_past_u-mu_t_x)/sigma_x - np.log(sigma_x)-np.log(2)\n",
        "\n",
        "@jit('f8(f8[:],f8,f8,f8,f8)',nopython=True,cache=True)\n",
        "def log_likelihood_y(theta,y_u,x_past_u,y_past_u,sigma_y):\n",
        "    c_t = theta[2]\n",
        "    d_t = theta[3]\n",
        "    mu_t_y = theta[5]\n",
        "    return -np.abs(y_u - c_t*x_past_u-d_t*y_past_u-mu_t_y)/sigma_y - np.log(sigma_y)-np.log(2)\n",
        "\n",
        "@jit('f8(f8[:],f8,f8,f8)',nopython=True,cache=True)\n",
        "def abs_error_x(theta,x_u,x_past_u,y_past_u):\n",
        "    a_t = theta[0]\n",
        "    b_t = theta[1]\n",
        "    mu_t_x = theta[4]\n",
        "    return np.abs(x_u - a_t*x_past_u-b_t*y_past_u-mu_t_x)\n",
        "\n",
        "@jit('f8(f8[:],f8,f8,f8)',nopython=True,cache=True)\n",
        "def abs_error_y(theta,y_u,x_past_u,y_past_u):\n",
        "    c_t = theta[2]\n",
        "    d_t = theta[3]\n",
        "    mu_t_y = theta[5]\n",
        "    return np.abs(y_u - c_t*x_past_u-d_t*y_past_u-mu_t_y)\n",
        "\n",
        "\n",
        "\n",
        "\n",
        "@jit('f8[:](f8[:,:],f8[:],f8[:],f8[:],f8[:],i8,i8,f8,f8)',nopython=True,cache=True,parallel=True)\n",
        "def log_likelihood(theta_ens,x_t,y_t,x_t_past,y_t_past,N_ens,M,sigma_x,sigma_y):\n",
        "    alpha_ens = np.zeros(N_ens)\n",
        "    for i in prange(N_ens):\n",
        "        theta_tmp = np.copy(theta_ens[i])\n",
        "        alpha_i_tmp = 0.\n",
        "        for m in prange(M):\n",
        "            x_tm = 0.\n",
        "            x_tm += x_t[m]\n",
        "            y_tm = 0.\n",
        "            y_tm += y_t[m]\n",
        "            x_past_m = 0.\n",
        "            x_past_m += x_t_past[m]\n",
        "            y_past_m = 0.\n",
        "            y_past_m += y_t_past[m]\n",
        "            alpha_i_tmp += log_likelihood_x(theta_tmp,x_tm,x_past_m,y_past_m,sigma_x)+\\\n",
        "            log_likelihood_y(theta_tmp,y_tm,x_past_m,y_past_m,sigma_y)\n",
        "        alpha_ens[i] = alpha_i_tmp \n",
        "    return alpha_ens\n",
        "\n",
        "\n",
        "@jit('i8[:](f8[:])',nopython=True,parallel=True,cache=True)\n",
        "def resampling(weight):\n",
        "    N = weight.size\n",
        "    weight_index = np.argsort(weight)\n",
        "    weight_sorted = np.sort(weight)\n",
        "    resampling_index = np.zeros(N)\n",
        "    cumsum = np.empty(N)\n",
        "    tmp = 0.\n",
        "    for i in range(N):\n",
        "        tmp += weight_sorted[i]\n",
        "        cumsum[i] = tmp\n",
        "    cumsum[-1] = 1.\n",
        "    for i in prange(N):\n",
        "        u = np.random.rand()\n",
        "        resampling_index[i] = weight_index[(cumsum[cumsum<u]).size]\n",
        "    return resampling_index.astype(np.int64)\n",
        "\n",
        "@jit('i8[:](f8[:])',nopython=True,parallel=True,cache=True)\n",
        "def residual_resampling(weight):\n",
        "    ## https://arxiv.org/pdf/cs/0507025.pdf\n",
        "    N = weight.size\n",
        "    weight_index = np.argsort(weight)\n",
        "    weight_sorted = np.sort(weight)\n",
        "    resampling_index = np.zeros(N)\n",
        "    weight_int = np.floor(weight_sorted*N).astype(np.int64)\n",
        "    \n",
        "    nonzero_counter = 0\n",
        "    for i in range(N):\n",
        "        for _ in range(weight_int[i]):\n",
        "            resampling_index[nonzero_counter] = weight_index[i]\n",
        "            nonzero_counter += 1\n",
        "            \n",
        "    \n",
        "    weight_sorted = (N*weight_sorted-weight_int)/(N-np.sum(weight_int))\n",
        "\n",
        "    \n",
        "    cumsum = np.zeros(N)\n",
        "    tmp = 0.\n",
        "    for i in range(N):\n",
        "        tmp += weight_sorted[i]\n",
        "        cumsum[i] = tmp\n",
        "    cumsum[-1] = 1.\n",
        "    for i in prange(nonzero_counter,N):\n",
        "        u = np.random.rand()\n",
        "        resampling_index[i] = weight_index[(cumsum[cumsum<u]).size]\n",
        "    return resampling_index.astype(np.int64)\n",
        "\n",
        "\n",
        "    "
      ],
      "execution_count": 64,
      "outputs": []
    },
    {
      "cell_type": "code",
      "metadata": {
        "id": "AzxZoL0LtWS8"
      },
      "source": [
        ""
      ],
      "execution_count": null,
      "outputs": []
    },
    {
      "cell_type": "code",
      "metadata": {
        "id": "BFGazR-HtWS-"
      },
      "source": [
        ""
      ],
      "execution_count": null,
      "outputs": []
    },
    {
      "cell_type": "code",
      "metadata": {
        "id": "9Edic2IrtWTA"
      },
      "source": [
        "## パラメータ推定用\n",
        "\n",
        "def PF(theta_path,alpha_path,noise_path,index_path,x,y,N_ens,r,sigma_x,sigma_y):\n",
        "\n",
        "    deg = 1\n",
        "    M = x[0].size\n",
        "    T = x.T[0].size\n",
        "    d2 = 4*deg+2\n",
        "    neg_log_marginal_likelihood = 0.\n",
        "\n",
        "    \n",
        "    theta_ens_ = np.zeros((N_ens,d2))\n",
        "    noise = np.random.laplace(size=(N_ens,d2))*r\n",
        "    theta_ens_[:,-2] += x[0].mean()\n",
        "    theta_ens_[:,-1] += y[0].mean()\n",
        "    theta_ens = theta_ens_+noise\n",
        "    \n",
        "    \n",
        "    theta_path[0] = theta_ens_\n",
        "    noise_path[0]  = noise\n",
        "\n",
        "\n",
        "    alpha_ens = np.ones(N_ens)/N_ens\n",
        "    alpha_ens_ = np.ones(N_ens)/N_ens\n",
        "    alpha_path[0] = np.ones(N_ens)/N_ens\n",
        "    resampling_index = np.random.permutation(np.array(range(N_ens)))\n",
        "    index_path[0] = resampling_index\n",
        "    \n",
        "\n",
        "    ## PF本体\n",
        "    for t in range(1,T):\n",
        "        \n",
        "        x_t = np.copy(x)[t]\n",
        "        y_t = np.copy(y)[t]\n",
        "        x_t_past = np.copy(x)[t-1]\n",
        "        y_t_past = np.copy(y)[t-1]\n",
        "        \n",
        "    \n",
        "        alpha_ens = log_likelihood(theta_ens,x_t,y_t,x_t_past,y_t_past,N_ens,M,sigma_x,sigma_y)\n",
        "        \n",
        "        alpha_max = alpha_ens.max()\n",
        "        ## logsumexpはscipy.specialなので\n",
        "        const = np.log(np.sum(np.exp(alpha_ens - alpha_max)))\n",
        "        alpha_ens_ = np.exp(alpha_ens  - alpha_max - const)\n",
        "        alpha_path[t] = alpha_ens_\n",
        "\n",
        "        \n",
        "        alpha_max = alpha_ens.max()\n",
        "        neg_log_marginal_likelihood += -np.log(np.sum(np.exp(alpha_ens - alpha_max)))-alpha_max\n",
        "        \n",
        "        resampling_index_prev = np.copy(resampling_index)\n",
        "        resampling_index = residual_resampling(alpha_ens_)\n",
        "        theta_ens_prev = np.copy(theta_ens_)\n",
        "        theta_ens_ = theta_ens[resampling_index]\n",
        "        \n",
        "        \n",
        "        index_path[t] = resampling_index\n",
        "\n",
        "        theta_path[t] = theta_ens_\n",
        "        \n",
        "        noise = np.random.laplace(size=(N_ens,d2))*r\n",
        "        theta_ens = theta_ens_+noise\n",
        "        noise_path[t] = noise\n",
        "\n",
        "        \n",
        "    return neg_log_marginal_likelihood"
      ],
      "execution_count": 65,
      "outputs": []
    },
    {
      "cell_type": "code",
      "metadata": {
        "id": "zmQoaQcOtWTC"
      },
      "source": [
        "##サロゲートも出す\n",
        "def PF_generator(x_v_path,y_v_path,theta_path,alpha_path,index_path,x,y,N_ens,r,sigma_x,sigma_y):\n",
        "\n",
        "    deg = 1\n",
        "    M = x[0].size\n",
        "    T = x.T[0].size\n",
        "    d2 = 4*deg+2\n",
        "    \n",
        "    neg_log_marginal_likelihood = 0.\n",
        "    theta_ens_ = np.zeros((N_ens,d2))\n",
        "    theta_ens_[:,-2] += x[0].mean()\n",
        "    theta_ens_[:,-1] += y[0].mean()\n",
        "    theta_ens = theta_ens_ + np.random.laplace(size=(N_ens,d2))*r\n",
        "    \n",
        "    theta_path[0] = theta_ens_\n",
        "\n",
        "\n",
        "    alpha_ens = np.zeros(N_ens)/N_ens\n",
        "    alpha_ens_ = np.zeros(N_ens)/N_ens\n",
        "    resampling_index = np.random.permutation(np.array(range(N_ens)))\n",
        "    index_path[0] = resampling_index\n",
        "    \n",
        "    ##生成する x_t,y_t\n",
        "    cor = (np.linalg.cholesky(np.cov(x[0],y[0])).T).dot(np.random.randn(2,N_ens))\n",
        "    x_v = x[0].mean()+cor[0]\n",
        "    y_v = y[0].mean()+cor[1]\n",
        "    x_v_path[0] = x_v\n",
        "    y_v_path[0] = y_v\n",
        "\n",
        "    ## PF本体\n",
        "    for t in range(1,T):\n",
        "        \n",
        "        x_t = np.copy(x)[t]\n",
        "        y_t = np.copy(y)[t]\n",
        "        x_t_past = np.copy(x)[t-1]\n",
        "        y_t_past = np.copy(y)[t-1]\n",
        "        \n",
        "        \n",
        "        alpha_ens = log_likelihood(theta_ens,x_t,y_t,x_t_past,y_t_past,N_ens,M,sigma_x,sigma_y)\n",
        "\n",
        "        \n",
        "        alpha_max = alpha_ens.max()\n",
        "        ## logsumexpはscipy.specialなので\n",
        "        const = np.log(np.sum(np.exp(alpha_ens - alpha_max)))\n",
        "        alpha_ens_ = np.exp(alpha_ens  - alpha_max - const)\n",
        "        alpha_path[t] = alpha_ens_\n",
        "\n",
        "        \n",
        "        alpha_max = alpha_ens.max()\n",
        "        neg_log_marginal_likelihood += -np.log(np.sum(np.exp(alpha_ens - alpha_max)))-alpha_max\n",
        "        \n",
        "        \n",
        "        \n",
        "        resampling_index_prev = np.copy(resampling_index)\n",
        "        resampling_index = residual_resampling(alpha_ens_)\n",
        "        theta_ens_prev = np.copy(theta_ens_)\n",
        "        theta_ens_ = theta_ens[resampling_index]\n",
        "        \n",
        "        \n",
        "        index_path[t] = resampling_index\n",
        "        \n",
        "        x_v_p = x_v[resampling_index_prev]\n",
        "        y_v_p = y_v[resampling_index_prev]\n",
        "        for i in range(N_ens):\n",
        "            x_v[i]  = theta_ens_prev[i,0]*x_v_p[i]+theta_ens_prev[i,1]*y_v_p[i]+theta_ens_prev[i,4]+np.random.laplace()*sigma_x \n",
        "            y_v[i]  = theta_ens_prev[i,2]*x_v_p[i]+theta_ens_prev[i,3]*y_v_p[i]+theta_ens_prev[i,5]+np.random.laplace()*sigma_y\n",
        "        theta_ens = theta_ens_+np.random.laplace(size=(N_ens,d2))*r\n",
        "        \n",
        "        \n",
        "    \n",
        "\n",
        "        x_v_path[t] = x_v\n",
        "        y_v_path[t] = y_v\n",
        "        theta_path[t] = theta_ens_\n",
        "        \n",
        "        \n",
        "    return neg_log_marginal_likelihood\n",
        "        "
      ],
      "execution_count": 66,
      "outputs": []
    },
    {
      "cell_type": "code",
      "metadata": {
        "id": "KpU6q648tWTD"
      },
      "source": [
        "#@jit('f8[:](f8[:,:,:],f8[:,:],f8[:,:,:],f8[:,:],f8[:,:],f8)',nopython=True,cache=True,parallel=True)\n",
        "def calc_param(theta_path,alpha_path,noise_path,x,y,r):\n",
        "    T = alpha_path.T[0].size\n",
        "    N_ens = alpha_path[0].size\n",
        "    M = x[0].size\n",
        "    d2 = 6\n",
        "    sig_x = 0.\n",
        "    sig_y = 0.\n",
        "    r_new = 0.\n",
        "    weight = np.ones(N_ens)/N_ens\n",
        "    for t in range(1,T):\n",
        "        alpha = alpha_path[t]\n",
        "        theta_N = theta_path[t]\n",
        "        theta_N_past = theta_path[t-1]\n",
        "        noise_N = noise_path[t-1]\n",
        "        x_abs_N = np.zeros(N_ens)\n",
        "        y_abs_N = np.zeros(N_ens)\n",
        "        r_N = np.zeros(N_ens)\n",
        "        x_t = np.copy(x[t])\n",
        "        y_t = np.copy(y[t])\n",
        "        x_past = np.copy(x[t-1])\n",
        "        y_past = np.copy(y[t-1])\n",
        "        for i in prange(N_ens):\n",
        "            theta = np.zeros(d2)\n",
        "            theta_past = np.zeros(d2)\n",
        "            theta += theta_N[i]\n",
        "            theta_past += theta_N_past[i]\n",
        "            noise = np.zeros(d2)\n",
        "            noise += noise_N[i]\n",
        "            for m in prange(M):\n",
        "                x_tm = 0.\n",
        "                x_tm += x_t[m]\n",
        "                y_tm = 0.\n",
        "                y_tm += y_t[m]\n",
        "                x_past_m = 0.\n",
        "                x_past_m += x_past[m]\n",
        "                y_past_m = 0.\n",
        "                y_past_m += y_past[m]\n",
        "                x_abs_N[i] += abs_error_x(theta,x_tm,x_past_m,y_past_m)\n",
        "                y_abs_N[i] += abs_error_y(theta,y_tm,x_past_m,y_past_m)\n",
        "            for d  in prange(d2):\n",
        "                theta_d = 0.\n",
        "                theta_d += theta[d]\n",
        "                theta_past_d = 0.\n",
        "                theta_past_d += theta_past[d]\n",
        "                r_N[i] += np.abs(theta_d-theta_past_d)\n",
        "                #noise_d = 0.\n",
        "                #noise_d += noise[d]\n",
        "                #r_N[i] += np.abs(noise_d)\n",
        "                \n",
        "            sig_x += x_abs_N[i]/N_ens\n",
        "            sig_y += y_abs_N[i]/N_ens\n",
        "            r_new += r_N[i]/N_ens#*alpha[i]#\n",
        "    return np.array([sig_x/(M*(T)),sig_y/(M*(T)),r_new/((T)*d2)])\n",
        "    #return np.array([sig_x/(M*T),sig_y/(M*T),np.sqrt(1/(r_new_inv/(T*d2)))])"
      ],
      "execution_count": 67,
      "outputs": []
    },
    {
      "cell_type": "code",
      "metadata": {
        "id": "-4eO1HcitWTE"
      },
      "source": [
        "# Path sampling \n",
        "# 事後分布にしたがってパスを N_path 個サンプリングする\n",
        "# @jit('void (f8[:,:], f8[:,:], f8[:,:,:], f8[:,:], f8[:,:], i8, f8, f8, f8)',nopython=True,cache=True,parallel=True)\n",
        "def path_sampling(x_v_path, y_v_path, theta_path, x, y, N_ens, r, sigma_x, sigma_y):\n",
        "    \n",
        "    N_samp = 1500 # 事後確率からtheta を生成する際のリサンプリングする回数\n",
        "\n",
        "    deg = 1\n",
        "    M = x[0].size\n",
        "    T = x.T[0].size\n",
        "    d2 = 4*deg+2\n",
        "\n",
        "\n",
        "    for n_path in range(N_path):\n",
        "        if n_path%100 == 0:        \n",
        "            print('n_path = {}'.format(n_path))\n",
        "\n",
        "        theta_path[0, n_path] = np.random.laplace(size=d2)*r\n",
        "        samp_index = np.random.randint(0,M) # 初期値としてサンプルの実現値をランダムに代入\n",
        "        x_v_path[0, n_path] = x[0, samp_index]\n",
        "        y_v_path[0, n_path] = y[0, samp_index]\n",
        "\n",
        "        for t in range(1,T):\n",
        "            # 前の時刻の状態を使ってx_v, y_v をサンプリングする\n",
        "            theta = theta_path[t-1, n_path]\n",
        "            x_p = x_v_path[t-1, n_path]\n",
        "            y_p = y_v_path[t-1, n_path]\n",
        "\n",
        "            x_v_path[t, n_path] = theta[0]*x_p + theta[1]*y_p + theta[4] + np.random.laplace()*sigma_x\n",
        "            y_v_path[t, n_path] = theta[2]*x_p + theta[3]*y_p + theta[5] + np.random.laplace()*sigma_y\n",
        "\n",
        "            # theta を事後分布からサンプリングする\n",
        "            x_t = np.copy(x)[t]\n",
        "            y_t = np.copy(y)[t]\n",
        "            x_t_past = np.copy(x)[t-1]\n",
        "            y_t_past = np.copy(y)[t-1]\n",
        "        \n",
        "            theta_samp = np.ones((N_samp,1))@theta_path[t-1][n_path].reshape((1,d2)) + np.random.laplace(size=(N_samp, d2))*r\n",
        "            alpha_samp = log_likelihood(theta_samp, x_t, y_t, x_t_past, y_t_past, N_samp, M, sigma_x, sigma_y)\n",
        "\n",
        "            alpha_max = alpha_samp.max()\n",
        "            const = np.log(np.sum(np.exp(alpha_samp - alpha_max)))\n",
        "            alpha_samp_ = np.exp(alpha_samp  - alpha_max - const)\n",
        "\n",
        "\n",
        "            cum = np.zeros(alpha_samp_.size)\n",
        "            U = np.random.rand()\n",
        "            cum[0] = alpha_samp_[0]\n",
        "            for i in range(N_samp):\n",
        "                if cum[i-1] > U:\n",
        "                    resampled_index = i-1\n",
        "                    break\n",
        "                cum[i] = cum[i-1] + alpha_samp_[i]\n",
        "\n",
        "            theta_path[t][n_path] = theta_samp[resampled_index]"
      ],
      "execution_count": 130,
      "outputs": []
    },
    {
      "cell_type": "code",
      "metadata": {
        "id": "kTD9dOuGtWTG"
      },
      "source": [
        ""
      ],
      "execution_count": null,
      "outputs": []
    },
    {
      "cell_type": "code",
      "metadata": {
        "id": "1C1YIHGjtWTH"
      },
      "source": [
        ""
      ],
      "execution_count": null,
      "outputs": []
    },
    {
      "cell_type": "code",
      "metadata": {
        "id": "RLc4uIeNtWTJ"
      },
      "source": [
        ""
      ],
      "execution_count": null,
      "outputs": []
    },
    {
      "cell_type": "code",
      "metadata": {
        "id": "bIVsxovmtWTK"
      },
      "source": [
        ""
      ],
      "execution_count": null,
      "outputs": []
    },
    {
      "cell_type": "code",
      "metadata": {
        "id": "qrqC8snrtWTL"
      },
      "source": [
        "N_ens = 1500 ##粒子数\n",
        "N_iter = 1 ##繰り返し数\n",
        "d2 = 6\n",
        "\n",
        "sigma_x = 0.3\n",
        "sigma_y = 0.3\n",
        "\n",
        "#r = 0.009\n",
        "r = 0.03\n",
        "\n",
        "NLML_iter = np.zeros(N_iter)\n",
        "sigma_x_path = np.zeros(N_iter)\n",
        "sigma_y_path = np.zeros(N_iter)\n",
        "r_path = np.zeros(N_iter)\n",
        "for i in range(N_iter):\n",
        "    theta_path = np.zeros((T,N_ens,d2))\n",
        "    noise_path = np.zeros((T,N_ens,d2))\n",
        "    alpha_path = np.zeros((T,N_ens))\n",
        "    index_path = np.zeros((T,N_ens),dtype=int)\n",
        "    NLML = PF(theta_path,alpha_path,noise_path,index_path,s,e,N_ens,r,sigma_x,sigma_y)\n",
        "\n",
        "    sigma_x,sigma_y,r = calc_param(theta_path,alpha_path,noise_path,s,e,r)\n",
        "    #sigma_x,sigma_y,r = calc_param2(theta_path,alpha_path,index_path,s,e,r)\n",
        "    sigma_x_path[i] = sigma_x\n",
        "    sigma_y_path[i] = sigma_y\n",
        "    r_path[i] = r\n",
        "    NLML_iter[i] = NLML"
      ],
      "execution_count": 131,
      "outputs": []
    },
    {
      "cell_type": "code",
      "metadata": {
        "id": "tFBggBvStWTM",
        "outputId": "7439a081-8f74-4d08-bfe3-b3f434f1f9aa",
        "colab": {
          "base_uri": "https://localhost:8080/"
        }
      },
      "source": [
        "theta_path = np.zeros((T,N_ens,d2))\n",
        "noise_path = np.zeros((T,N_ens,d2))\n",
        "alpha_path = np.zeros((T,N_ens))\n",
        "NLML = 0.\n",
        "NLML = PF(theta_path,alpha_path,noise_path,index_path,s,e,N_ens,r,sigma_x,sigma_y)\n",
        "theta_path.mean(axis=1).mean(axis=0)"
      ],
      "execution_count": 132,
      "outputs": [
        {
          "output_type": "execute_result",
          "data": {
            "text/plain": [
              "array([ 0.5696625 , -0.13850198,  0.5140072 ,  0.68609976,  0.40964204,\n",
              "        0.43448192])"
            ]
          },
          "metadata": {
            "tags": []
          },
          "execution_count": 132
        }
      ]
    },
    {
      "cell_type": "code",
      "metadata": {
        "id": "ChRevtTMtWTO",
        "outputId": "584df734-9829-4505-b895-0d8f3b812bf8",
        "colab": {
          "base_uri": "https://localhost:8080/"
        }
      },
      "source": [
        "NLML"
      ],
      "execution_count": 133,
      "outputs": [
        {
          "output_type": "execute_result",
          "data": {
            "text/plain": [
              "-2637.982014984485"
            ]
          },
          "metadata": {
            "tags": []
          },
          "execution_count": 133
        }
      ]
    },
    {
      "cell_type": "code",
      "metadata": {
        "id": "3VAOsQljPQ7R",
        "outputId": "a99da024-59e9-41ab-fb2e-e8f1210c714a",
        "colab": {
          "base_uri": "https://localhost:8080/"
        }
      },
      "source": [
        "# 事後分布からpath を出す\n",
        "N_path = 1000 #path の数\n",
        "x_v_path = np.zeros((T, N_path))\n",
        "y_v_path = np.zeros((T, N_path))\n",
        "theta_path = np.zeros((T, N_path, d2))\n",
        "\n",
        "path_sampling(x_v_path, y_v_path, theta_path, s, e, N_path, r, sigma_x, sigma_y)"
      ],
      "execution_count": 134,
      "outputs": [
        {
          "output_type": "stream",
          "text": [
            "n_path = 0\n",
            "n_path = 100\n",
            "n_path = 200\n",
            "n_path = 300\n",
            "n_path = 400\n",
            "n_path = 500\n",
            "n_path = 600\n",
            "n_path = 700\n",
            "n_path = 800\n",
            "n_path = 900\n"
          ],
          "name": "stdout"
        }
      ]
    },
    {
      "cell_type": "code",
      "metadata": {
        "id": "2tzjXu4iQtL7",
        "outputId": "a79dbd00-976f-4e7c-c380-1ef5b5d1f1ba",
        "colab": {
          "base_uri": "https://localhost:8080/",
          "height": 282
        }
      },
      "source": [
        "# 生成したpath の解析\n",
        "for n_path in range(N_path):\n",
        "    if np.abs(x_v_path[:, n_path]).max() > 6 or np.abs(y_v_path[:, n_path]).max() > 6:\n",
        "    # if np.abs(y_v_path[:, n_path]).max() > 6:\n",
        "        print('irregular = {} x_max ={} y_max ={}'.format(n_path, np.abs(x_v_path[:,n_path]).max(), np.abs(y_v_path[:,n_path]).max()))\n",
        "\n",
        "plt.subplot(3,1,1)\n",
        "plt.plot(x_v_path)\n",
        "plt.plot(y_v_path)\n",
        "\n",
        "C = np.cov(x_v_path, y_v_path)\n",
        "plt.subplot(3,1,2)\n",
        "plt.imshow(C)\n",
        "\n",
        "E, V = np.linalg.eig(C)\n",
        "plt.subplot(3,1,3)\n",
        "plt.plot(E)\n",
        "plt.show()\n",
        "\n",
        "# 生成した path の保存\n",
        "np.savez('/content/drive/My Drive/Colab Notebooks/TransferEntropy/surrogate_synthetic{}'.format(N_path), x=x_v_path, y=y_v_path, cov=C, sigma_x = [sigma_x], sigma_y = [sigma_y])"
      ],
      "execution_count": 135,
      "outputs": [
        {
          "output_type": "stream",
          "text": [
            "irregular = 236 x_max =2.1743602212401365 y_max =6.847965340726483\n"
          ],
          "name": "stdout"
        },
        {
          "output_type": "display_data",
          "data": {
            "image/png": "[encoded data removed]",
            "text/plain": [
              "<Figure size 432x288 with 3 Axes>"
            ]
          },
          "metadata": {
            "tags": [],
            "needs_background": "light"
          }
        }
      ]
    },
    {
      "cell_type": "code",
      "metadata": {
        "id": "RDyWxAL3hW1Q",
        "outputId": "dad69491-34a4-4d83-ea32-64db50d1c431",
        "colab": {
          "base_uri": "https://localhost:8080/"
        }
      },
      "source": [
        "npz_comp=np.load('/content/drive/My Drive/Colab Notebooks/TransferEntropy/surrogate_synthetic{}.npz'.format(N_path))\n",
        "print(npz_comp.files)\n",
        "x_v_path = npz_comp['x']\n",
        "y_v_path = npz_comp['y']\n",
        "C = npz_comp['cov']\n",
        "sigma2_s = npz_comp['sigma_x'][0]**2\n",
        "sigma2_e = npz_comp['sigma_y'][0]**2"
      ],
      "execution_count": 136,
      "outputs": [
        {
          "output_type": "stream",
          "text": [
            "['x', 'y', 'cov', 'sigma_x', 'sigma_y']\n"
          ],
          "name": "stdout"
        }
      ]
    },
    {
      "cell_type": "code",
      "metadata": {
        "id": "FlPeLZ_HtWTh"
      },
      "source": [
        "# transfer entropy を求める\n",
        "T = len(x_v_path.T[0])\n",
        "\n",
        "lam = np.linalg.inv(C)\n",
        "lam_xx = lam[:T,:T]\n",
        "lam_xy = lam[:T,T:]\n",
        "lam_yx = lam[T:,:T]\n",
        "lam_yy = lam[T:,T:]\n",
        "\n",
        "## yに関して周辺化\n",
        "lam_x = lam_xx - lam_xy@np.linalg.inv(lam_yy)@lam_yx\n",
        "## xに関して周辺化\n",
        "lam_y = lam_yy - lam_yx@np.linalg.inv(lam_xx)@lam_xy\n",
        "\n",
        "hx = np.zeros(T)\n",
        "hy = np.zeros(T)\n",
        "for i in range(1,T):\n",
        "    ## 未来方向の周辺化\n",
        "    # x\n",
        "    lam_xt = lam_x[:i,:i]-lam_x[:i,i:]@np.linalg.inv(lam_x[i:,i:])@lam_x[i:,:i]\n",
        "    # y\n",
        "    lam_yt = lam_y[:i,:i]-lam_y[:i,i:]@np.linalg.inv(lam_y[i:,i:])@lam_y[i:,:i]\n",
        "    \n",
        "    hx[i-1] = 1/np.diag(lam_xt)[-1]\n",
        "    hy[i-1] = 1/np.diag(lam_yt)[-1]\n",
        "hx[-1] = 1/np.diag(lam_x)[-1]\n",
        "hy[-1] = 1/np.diag(lam_y)[-1]"
      ],
      "execution_count": 137,
      "outputs": []
    },
    {
      "cell_type": "code",
      "metadata": {
        "id": "O1YpYOLNtWTi",
        "outputId": "8eee5735-955f-4307-ad22-ea5651eee9a3",
        "colab": {
          "base_uri": "https://localhost:8080/",
          "height": 265
        }
      },
      "source": [
        "plt.plot(0.5*np.log(hx/sigma2_s))\n",
        "plt.plot(0.5*np.log(hy/sigma2_e))\n",
        "plt.show()\n"
      ],
      "execution_count": 138,
      "outputs": [
        {
          "output_type": "display_data",
          "data": {
            "image/png": "[encoded data removed]",
            "text/plain": [
              "<Figure size 432x288 with 1 Axes>"
            ]
          },
          "metadata": {
            "tags": [],
            "needs_background": "light"
          }
        }
      ]
    },
    {
      "cell_type": "code",
      "metadata": {
        "id": "2Ftk4xYVtWTn"
      },
      "source": [
        ""
      ],
      "execution_count": null,
      "outputs": []
    },
    {
      "cell_type": "code",
      "metadata": {
        "id": "W6qK_cmUtWTn"
      },
      "source": [
        ""
      ],
      "execution_count": null,
      "outputs": []
    },
    {
      "cell_type": "code",
      "metadata": {
        "id": "D5SrJbQmtWTo"
      },
      "source": [
        ""
      ],
      "execution_count": null,
      "outputs": []
    },
    {
      "cell_type": "code",
      "metadata": {
        "id": "v8CW0fzItWT-"
      },
      "source": [
        ""
      ],
      "execution_count": null,
      "outputs": []
    },
    {
      "cell_type": "code",
      "metadata": {
        "id": "TIY86ffxtWT_"
      },
      "source": [
        ""
      ],
      "execution_count": null,
      "outputs": []
    },
    {
      "cell_type": "code",
      "metadata": {
        "id": "8FK10P4QtWT_"
      },
      "source": [
        ""
      ],
      "execution_count": null,
      "outputs": []
    },
    {
      "cell_type": "code",
      "metadata": {
        "id": "BOw-R_y1tWUA"
      },
      "source": [
        ""
      ],
      "execution_count": null,
      "outputs": []
    },
    {
      "cell_type": "code",
      "metadata": {
        "id": "Xgxwx9QItWUB"
      },
      "source": [
        ""
      ],
      "execution_count": null,
      "outputs": []
    },
    {
      "cell_type": "code",
      "metadata": {
        "id": "AckDfwBotWUB"
      },
      "source": [
        ""
      ],
      "execution_count": null,
      "outputs": []
    },
    {
      "cell_type": "code",
      "metadata": {
        "id": "WeIZaCEhtWUC"
      },
      "source": [
        ""
      ],
      "execution_count": null,
      "outputs": []
    },
    {
      "cell_type": "code",
      "metadata": {
        "id": "MPhIVFLXtWUD"
      },
      "source": [
        "\n"
      ],
      "execution_count": null,
      "outputs": []
    },
    {
      "cell_type": "code",
      "metadata": {
        "id": "-emWWF8TtWUD"
      },
      "source": [
        ""
      ],
      "execution_count": null,
      "outputs": []
    },
    {
      "cell_type": "code",
      "metadata": {
        "id": "YwFdHAtetWUE"
      },
      "source": [
        ""
      ],
      "execution_count": null,
      "outputs": []
    },
    {
      "cell_type": "code",
      "metadata": {
        "id": "YRKgMBNutWUF"
      },
      "source": [
        ""
      ],
      "execution_count": null,
      "outputs": []
    },
    {
      "cell_type": "code",
      "metadata": {
        "id": "8q6dezCHtWUF"
      },
      "source": [
        ""
      ],
      "execution_count": null,
      "outputs": []
    },
    {
      "cell_type": "code",
      "metadata": {
        "id": "SPboU7zTtWUG"
      },
      "source": [
        ""
      ],
      "execution_count": null,
      "outputs": []
    },
    {
      "cell_type": "code",
      "metadata": {
        "id": "R8GpxqIytWUG"
      },
      "source": [
        ""
      ],
      "execution_count": null,
      "outputs": []
    },
    {
      "cell_type": "code",
      "metadata": {
        "id": "ad0alH0dtWUH"
      },
      "source": [
        ""
      ],
      "execution_count": null,
      "outputs": []
    },
    {
      "cell_type": "code",
      "metadata": {
        "id": "nNPqadFstWUH"
      },
      "source": [
        ""
      ],
      "execution_count": null,
      "outputs": []
    },
    {
      "cell_type": "code",
      "metadata": {
        "id": "-jZ-3Wv6tWUJ"
      },
      "source": [
        ""
      ],
      "execution_count": null,
      "outputs": []
    },
    {
      "cell_type": "code",
      "metadata": {
        "id": "YowAYKAQtWUK"
      },
      "source": [
        ""
      ],
      "execution_count": null,
      "outputs": []
    }
  ]
}