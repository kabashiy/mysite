{
  "nbformat": 4,
  "nbformat_minor": 0,
  "metadata": {
    "colab": {
      "name": "1-bitCSreplica.ipynb",
      "provenance": [],
      "collapsed_sections": [],
      "authorship_tag": "ABX9TyPUykoAf+Yc9RnaTHpSLo+d",
      "include_colab_link": true
    },
    "kernelspec": {
      "name": "python3",
      "display_name": "Python 3"
    }
  },
  "cells": [
    {
      "cell_type": "markdown",
      "metadata": {
        "id": "view-in-github",
        "colab_type": "text"
      },
      "source": [
        "<a href=\"https://colab.research.google.com/github/kabashiy/mysite/blob/master/1_bitCSreplica.ipynb\" target=\"_parent\"><img src=\"https://colab.research.google.com/assets/colab-badge.svg\" alt=\"Open In Colab\"/></a>"
      ]
    },
    {
      "cell_type": "markdown",
      "metadata": {
        "id": "V7ZSiPVAcH0d"
      },
      "source": [
        "# 1-bit 圧縮センシングのレプリカ計算\n",
        "**問題設定** \\\n",
        "真の信号生成モデル\n",
        "$$\\boldsymbol{s}^0 \\sim \\prod_{i=1}^N [(1-f)\\delta(s_i^0) + \\frac{f}{2}\n",
        "\\left (\\delta(s^0-1) + \\delta(s^0+1) \\right ) ]$$\n",
        "観測行列　\\\n",
        "$$ A_{\\mu k} \\sim \\mathcal N(0, \\rho^k/N) $$\n",
        "観測過程 \\\n",
        "$$ b_\\mu = \\sum_{k=1}^N A_{\\mu k} s_k^0 $$\n",
        "$$ y_\\mu \\in \\{+1,-1\\}\\sim P(y_\\mu | b_\\mu) = \\Theta(y_\\mu b_\\mu) $$\n",
        "復元過程 \\\n",
        "$$ \\hat{\\boldsymbol{s}} = \\mathop{\\rm argmin}_{\\boldsymbol{s}} \\left \\{ ||\\boldsymbol{s} ||_1 \\right \\} \\quad {\\rm subj. to} \\quad y_\\mu (b_\\mu -\\kappa) > 0 \\quad \\mu=1,2,\\ldots, M $$\n",
        "\n"
      ]
    },
    {
      "cell_type": "code",
      "metadata": {
        "id": "9JfZ1-mScS3B"
      },
      "source": [
        "# 必要なライブラリの読み込み\n",
        "import numpy as np\n",
        "import matplotlib.pyplot as plt\n",
        "from scipy.integrate import quad\n",
        "from scipy.special import erfc \n",
        "from numpy import sqrt, sin, cos, pi, exp\n",
        "\n",
        "# System parameters\n",
        "Nsamp = int(1e6)\n",
        "N = 100\n",
        "alpha = 4\n",
        "M = int(alpha*N)\n",
        "kappa = 0.2\n",
        "f = 0.1\n",
        "sigS2 = 1\n",
        "rho = exp(-1./M)\n",
        "\n",
        "kMAX = N\n",
        "\n"
      ],
      "execution_count": 45,
      "outputs": []
    },
    {
      "cell_type": "code",
      "metadata": {
        "id": "LNBEofG4wOtY"
      },
      "source": [
        "# Definition of basic functions \n",
        "def H(x):\n",
        "    return 0.5*erfc(x/sqrt(2))\n",
        "\n",
        "def G(x):\n",
        "    return exp(-x**2/2)/sqrt(2*pi)\n",
        "\n",
        "def P0(y,z,T,m,q,kappa):\n",
        "    arg = y*(m/sqrt(q)*z-kappa)/sqrt(T-m**2/q)\n",
        "    return H(-arg)\n",
        "\n",
        "def DP0(y,z,T,m,q,kappa):\n",
        "    arg = y*(m/sqrt(q)*z-kappa)/sqrt(T-m**2/q)\n",
        "    return G(arg)/sqrt(T-m**2/q)\n",
        "\n",
        "def ReLU(x):\n",
        "    return x*(x>0)\n",
        "\n",
        "def Efunc(z,T,m,q,kappa):\n",
        "    return G(z)*(P0(+1, z, T,m,q,kappa)*(-(sqrt(q)*z-kappa)>0)+P0(-1,z,T,m,q,kappa)*((sqrt(q)*z-kappa) > 0))\n",
        "\n",
        "def Ffunc(z,T,m,q,kappa):\n",
        "    return G(z)*(P0(+1,z,T,m,q,kappa)*(ReLU(-(sqrt(q)*z-kappa)))**2+P0(-1,z,T,m,q,kappa)*(ReLU(sqrt(q)*z-kappa))**2)\n",
        "\n",
        "def Kfunc(z,T,m,q,kappa):\n",
        "    return  G(z)*(DP0(+1,z,T,m,q,kappa)*ReLU(sqrt(q)*z-kappa)+DP0(-1,z,T,m,q,kappa)*ReLU(-(sqrt(q)*z-kappa)))\n",
        "\n",
        "def Shfunc(a, b):\n",
        "    return (b-np.sign(b))*(np.abs(b) > 1)/a\n",
        "\n",
        " "
      ],
      "execution_count": 38,
      "outputs": []
    },
    {
      "cell_type": "code",
      "metadata": {
        "id": "GUAm3BoxwZ-D",
        "outputId": "6030418e-533e-46bd-e5fc-0927ffc6212c",
        "colab": {
          "base_uri": "https://localhost:8080/"
        }
      },
      "source": [
        "# Initialization \n",
        "S0 = np.zeros(Nsamp)\n",
        "S0[:int(f*Nsamp/2)] = np.ones(int(f*Nsamp/2))\n",
        "S0[int(f*Nsamp/2):int(f*Nsamp)] = -np.ones(int(f*Nsamp/2))\n",
        "\n",
        "T = (S0**2).mean()\n",
        "print('T = {}'.format(T))\n",
        "v = np.random.randn(Nsamp)\n",
        "\n",
        "chi = 1\n",
        "q = 0.5*sigS2\n",
        "m = 0\n",
        "\n",
        "EPS = 1.0e-6\n",
        "Niter = 1000\n",
        "gamma = .5\n",
        "\n",
        "\n",
        "q_list = q*np.ones(kMAX)\n",
        "chi_list = chi*np.ones(kMAX)\n",
        "m_list = m*np.ones(kMAX) \n",
        "\n",
        "\n",
        "ERR = 100\n",
        "iter = 0 \n",
        "while ERR > EPS and iter < Niter:\n",
        "    iter += 1\n",
        "    # Recode of previous step\n",
        "    kq = q\n",
        "    kchi = chi\n",
        "    km = m\n",
        "    \n",
        "    # Integrals for (chi, q, m) -> (E,F,K)\n",
        "    IE, IEerr = quad(lambda z: Efunc(z, T, m, q, kappa), -10,10)\n",
        "    E = alpha/chi*IE\n",
        "    IF, IFerr = quad(lambda z: Ffunc(z, T, m, q, kappa), -10,10)\n",
        "    F = alpha/chi**2*IF\n",
        "    IK, IKerr = quad(lambda z: Kfunc(z, T, m, q, kappa),-10,10)\n",
        "    K = alpha/chi*IK\n",
        "\n",
        "    # Integrals for (E,F,K) -> (chi, q, m)\n",
        "    for k in range(kMAX):\n",
        "        h = rho**k*K*S0 + sqrt(rho**k*F)*v\n",
        "        Sh = Shfunc(rho**k*E, h)\n",
        "    \n",
        "        q_list[k] = rho**k*(Sh**2).mean()\n",
        "        chi_list[k] = rho**k/(rho**k*E)*(np.abs(h) > 1).mean()\n",
        "        m_list[k] = rho**k*(S0*Sh).mean()\n",
        "\n",
        "    q = (1-gamma)*kq + gamma*q_list.mean()\n",
        "    chi = (1-gamma)*kchi + gamma*chi_list.mean()\n",
        "    m = (1-gamma)*km + gamma*m_list.mean()\n",
        "        \n",
        "    ERR = np.abs(kq-q) + np.abs(kchi-chi) + np.abs(km-m)\n",
        "\n",
        "        # print(\"iter = {} ERR = {} E = {} F = {} K = {}\".format(iter, ERR,E,F,K))\n",
        "    print(\"iter = {} ERR = {} q = {} chi = {} m = {}\".format(iter, ERR, q, chi, m))\n",
        "\n"
      ],
      "execution_count": 50,
      "outputs": [
        {
          "output_type": "stream",
          "text": [
            "T = 0.1\n",
            "iter = 1 ERR = 0.6451960085435114 q = 0.2992933851205393 chi = 0.5885552236483996 m = 0.033044617312450474\n",
            "iter = 2 ERR = 0.34490286183604446 q = 0.1936280038935655 chi = 0.3664048100933632 m = 0.05013168436648467\n",
            "iter = 3 ERR = 0.19103105929801037 q = 0.13522281100728786 chi = 0.24189308448182334 m = 0.05824582516667758\n",
            "iter = 4 ERR = 0.10928570963880888 q = 0.10153041947175181 chi = 0.1696816772718194 m = 0.06162773605994648\n",
            "iter = 5 ERR = 0.06429058454044576 q = 0.08149930190355906 chi = 0.1265269186946794 m = 0.06273244445505949\n",
            "iter = 6 ERR = 0.03871001661800659 q = 0.0694108248564476 chi = 0.10006062210288971 m = 0.06288768743416492\n",
            "iter = 7 ERR = 0.024032538304869802 q = 0.062113121347443664 chi = 0.08346919364335342 m = 0.06274428109783535\n",
            "iter = 8 ERR = 0.015106931973232804 q = 0.05776821893615061 chi = 0.07287147552469823 m = 0.06257996965455079\n",
            "iter = 9 ERR = 0.009456768335234199 q = 0.05526742446618825 chi = 0.06600388127349882 m = 0.06249159004047836\n",
            "iter = 10 ERR = 0.005838206239925946 q = 0.053928163109063496 chi = 0.06151161430409842 m = 0.06249826795387915\n",
            "iter = 11 ERR = 0.003645429125331258 q = 0.05332070307258957 chi = 0.05856391848900259 m = 0.06258854122764065\n",
            "iter = 12 ERR = 0.0022322614666301158 q = 0.05316625921350931 chi = 0.05663758119112156 m = 0.06274002153730948\n",
            "iter = 13 ERR = 0.0015455534854804942 q = 0.053279209293318586 chi = 0.05539326619375874 m = 0.06292830994561788\n",
            "iter = 14 ERR = 0.0012465083429447077 q = 0.053534971371152956 chi = 0.054605777588889445 m = 0.06313156760585892\n",
            "iter = 15 ERR = 0.001000722672509155 q = 0.05385116386948331 chi = 0.05412230698390823 m = 0.0633326271750565\n",
            "iter = 16 ERR = 0.0007946955869946246 q = 0.05417560855043361 chi = 0.05383902259658917 m = 0.06351959369378177\n",
            "iter = 17 ERR = 0.0006189502406751604 q = 0.05447553291808968 chi = 0.05368458532292078 m = 0.06368418229313247\n",
            "iter = 18 ERR = 0.0004773874911008849 q = 0.054739735681894615 chi = 0.053613072446447765 m = 0.0638258541439554\n",
            "iter = 19 ERR = 0.0003583261756604991 q = 0.054959254500292536 chi = 0.053590908227367874 m = 0.06394249728213809\n",
            "iter = 20 ERR = 0.00027386254288629813 q = 0.055134394613011804 chi = 0.05359654666042592 m = 0.06403558127924708\n",
            "iter = 21 ERR = 0.00022646921086482558 q = 0.055269094985254605 chi = 0.053616205470228384 m = 0.06410769130806664\n",
            "iter = 22 ERR = 0.00017917060062268286 q = 0.05536904368087141 chi = 0.05364119926209107 m = 0.06416191942120983\n",
            "iter = 23 ERR = 0.00013627704369618965 q = 0.05544048342673845 chi = 0.05366649996238197 m = 0.06420145601874808\n",
            "iter = 24 ERR = 9.972937351860472e-05 q = 0.05548943068421235 chi = 0.053689426871637205 m = 0.06422931122553754\n",
            "iter = 25 ERR = 6.985935981063812e-05 q = 0.055521258147271726 chi = 0.05370860994477954 m = 0.06424816004914648\n",
            "iter = 26 ERR = 4.67195256263625e-05 q = 0.05554055194180079 chi = 0.053723903378518185 m = 0.06426029234650513\n",
            "iter = 27 ERR = 2.93149932658332e-05 q = 0.055550992297664706 chi = 0.05373550558181499 m = 0.06426756478061024\n",
            "iter = 28 ERR = 1.684583327377087e-05 q = 0.05555546721585715 chi = 0.05374398641833185 m = 0.06427145485917471\n",
            "iter = 29 ERR = 8.048318777126307e-06 q = 0.05555612031310715 chi = 0.05374975755563048 m = 0.0642730789434032\n",
            "iter = 30 ERR = 5.464734642912639e-06 q = 0.05555453516757257 chi = 0.05375343943682849 m = 0.06427327665131352\n",
            "iter = 31 ERR = 5.560697327648689e-06 q = 0.05555183814694442 chi = 0.053755690315008674 m = 0.0642726638527942\n",
            "iter = 32 ERR = 5.3582417966421825e-06 q = 0.0555487222013422 chi = 0.053756905764261176 m = 0.06427163700585228\n",
            "iter = 33 ERR = 4.726899873845614e-06 q = 0.05554562935515892 chi = 0.05375736468542257 m = 0.06427046187332311\n",
            "iter = 34 ERR = 3.990301665895979e-06 q = 0.05554282238404746 chi = 0.0537573357517053 m = 0.06426930747648595\n",
            "iter = 35 ERR = 3.7212755499282935e-06 q = 0.05554042877821262 chi = 0.0537570465321373 m = 0.06426826902633885\n",
            "iter = 36 ERR = 3.273862566426089e-06 q = 0.055538479791888806 chi = 0.05375660265134098 m = 0.06426738803089256\n",
            "iter = 37 ERR = 2.712070589015736e-06 q = 0.055536959610954374 chi = 0.05375612258471092 m = 0.06426667620786804\n",
            "iter = 38 ERR = 2.1390328706002992e-06 q = 0.05553582072806022 chi = 0.05375567318471078 m = 0.06426612545789173\n",
            "iter = 39 ERR = 1.6351682310053461e-06 q = 0.05553499650646248 chi = 0.053755273971067385 m = 0.06426571372490186\n",
            "iter = 40 ERR = 1.2071080961809089e-06 q = 0.05553442588131753 chi = 0.05375493266059918 m = 0.06426541855241884\n",
            "iter = 41 ERR = 8.510210598444701e-07 q = 0.055534050611715985 chi = 0.053754659435612306 m = 0.06426521602594741\n"
          ],
          "name": "stdout"
        }
      ]
    },
    {
      "cell_type": "code",
      "metadata": {
        "id": "xwDrlL5su4Wn"
      },
      "source": [
        ""
      ],
      "execution_count": null,
      "outputs": []
    },
    {
      "cell_type": "code",
      "metadata": {
        "id": "8KpKVq92fugH",
        "outputId": "03309c85-591b-4332-c41d-a229f72d122f",
        "colab": {
          "base_uri": "https://localhost:8080/",
          "height": 316
        }
      },
      "source": [
        "z = np.array([i/100 for i in range(-1000,1001)])\n",
        "plt.plot(z,Efunc(z,T,m,q,kappa), z, Ffunc(z,T,m,q,kappa), z, Kfunc(z,T,m,q,kappa))"
      ],
      "execution_count": null,
      "outputs": [
        {
          "output_type": "execute_result",
          "data": {
            "text/plain": [
              "[<matplotlib.lines.Line2D at 0x7f6f097f6e48>,\n",
              " <matplotlib.lines.Line2D at 0x7f6f0981c588>,\n",
              " <matplotlib.lines.Line2D at 0x7f6f0981ca58>]"
            ]
          },
          "metadata": {
            "tags": []
          },
          "execution_count": 18
        },
        {
          "output_type": "display_data",
          "data": {
            "image/png": "[encoded data removed]",
            "text/plain": [
              "<Figure size 432x288 with 1 Axes>"
            ]
          },
          "metadata": {
            "tags": [],
            "needs_background": "light"
          }
        }
      ]
    },
    {
      "cell_type": "code",
      "metadata": {
        "id": "1wVjvk78lNoO",
        "outputId": "c2552f0b-0278-407a-dc6b-f9d0493b1347",
        "colab": {
          "base_uri": "https://localhost:8080/",
          "height": 34
        }
      },
      "source": [
        "28900*12"
      ],
      "execution_count": null,
      "outputs": [
        {
          "output_type": "execute_result",
          "data": {
            "text/plain": [
              "346800"
            ]
          },
          "metadata": {
            "tags": []
          },
          "execution_count": 1
        }
      ]
    },
    {
      "cell_type": "code",
      "metadata": {
        "id": "E6FDD4utI4iT"
      },
      "source": [
        ""
      ],
      "execution_count": null,
      "outputs": []
    }
  ]
}